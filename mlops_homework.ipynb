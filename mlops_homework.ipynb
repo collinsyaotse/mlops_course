{
  "cells": [
    {
      "cell_type": "code",
      "execution_count": 1,
      "metadata": {
        "id": "A8z2d4KHaOub"
      },
      "outputs": [],
      "source": [
        "import pandas as pd"
      ]
    },
    {
      "cell_type": "code",
      "execution_count": 4,
      "metadata": {
        "id": "h5IyXCDkaTbm"
      },
      "outputs": [],
      "source": [
        "df_jan = pd.read_parquet('C:/Users/Administrator/Downloads/yellow_tripdata_2023-01.parquet')\n",
        "df_feb = pd.read_parquet('C:/Users/Administrator/Downloads/yellow_tripdata_2023-02.parquet')"
      ]
    },
    {
      "cell_type": "code",
      "execution_count": 5,
      "metadata": {
        "colab": {
          "base_uri": "https://localhost:8080/",
          "height": 226
        },
        "id": "vWJrJ96IakfI",
        "outputId": "09e00e0c-0d1f-41db-83d6-a59232dd5df0"
      },
      "outputs": [
        {
          "data": {
            "text/html": [
              "<div>\n",
              "<style scoped>\n",
              "    .dataframe tbody tr th:only-of-type {\n",
              "        vertical-align: middle;\n",
              "    }\n",
              "\n",
              "    .dataframe tbody tr th {\n",
              "        vertical-align: top;\n",
              "    }\n",
              "\n",
              "    .dataframe thead th {\n",
              "        text-align: right;\n",
              "    }\n",
              "</style>\n",
              "<table border=\"1\" class=\"dataframe\">\n",
              "  <thead>\n",
              "    <tr style=\"text-align: right;\">\n",
              "      <th></th>\n",
              "      <th>VendorID</th>\n",
              "      <th>tpep_pickup_datetime</th>\n",
              "      <th>tpep_dropoff_datetime</th>\n",
              "      <th>passenger_count</th>\n",
              "      <th>trip_distance</th>\n",
              "      <th>RatecodeID</th>\n",
              "      <th>store_and_fwd_flag</th>\n",
              "      <th>PULocationID</th>\n",
              "      <th>DOLocationID</th>\n",
              "      <th>payment_type</th>\n",
              "      <th>fare_amount</th>\n",
              "      <th>extra</th>\n",
              "      <th>mta_tax</th>\n",
              "      <th>tip_amount</th>\n",
              "      <th>tolls_amount</th>\n",
              "      <th>improvement_surcharge</th>\n",
              "      <th>total_amount</th>\n",
              "      <th>congestion_surcharge</th>\n",
              "      <th>airport_fee</th>\n",
              "    </tr>\n",
              "  </thead>\n",
              "  <tbody>\n",
              "    <tr>\n",
              "      <th>0</th>\n",
              "      <td>2</td>\n",
              "      <td>2023-01-01 00:32:10</td>\n",
              "      <td>2023-01-01 00:40:36</td>\n",
              "      <td>1.0</td>\n",
              "      <td>0.97</td>\n",
              "      <td>1.0</td>\n",
              "      <td>N</td>\n",
              "      <td>161</td>\n",
              "      <td>141</td>\n",
              "      <td>2</td>\n",
              "      <td>9.3</td>\n",
              "      <td>1.00</td>\n",
              "      <td>0.5</td>\n",
              "      <td>0.00</td>\n",
              "      <td>0.0</td>\n",
              "      <td>1.0</td>\n",
              "      <td>14.30</td>\n",
              "      <td>2.5</td>\n",
              "      <td>0.00</td>\n",
              "    </tr>\n",
              "    <tr>\n",
              "      <th>1</th>\n",
              "      <td>2</td>\n",
              "      <td>2023-01-01 00:55:08</td>\n",
              "      <td>2023-01-01 01:01:27</td>\n",
              "      <td>1.0</td>\n",
              "      <td>1.10</td>\n",
              "      <td>1.0</td>\n",
              "      <td>N</td>\n",
              "      <td>43</td>\n",
              "      <td>237</td>\n",
              "      <td>1</td>\n",
              "      <td>7.9</td>\n",
              "      <td>1.00</td>\n",
              "      <td>0.5</td>\n",
              "      <td>4.00</td>\n",
              "      <td>0.0</td>\n",
              "      <td>1.0</td>\n",
              "      <td>16.90</td>\n",
              "      <td>2.5</td>\n",
              "      <td>0.00</td>\n",
              "    </tr>\n",
              "    <tr>\n",
              "      <th>2</th>\n",
              "      <td>2</td>\n",
              "      <td>2023-01-01 00:25:04</td>\n",
              "      <td>2023-01-01 00:37:49</td>\n",
              "      <td>1.0</td>\n",
              "      <td>2.51</td>\n",
              "      <td>1.0</td>\n",
              "      <td>N</td>\n",
              "      <td>48</td>\n",
              "      <td>238</td>\n",
              "      <td>1</td>\n",
              "      <td>14.9</td>\n",
              "      <td>1.00</td>\n",
              "      <td>0.5</td>\n",
              "      <td>15.00</td>\n",
              "      <td>0.0</td>\n",
              "      <td>1.0</td>\n",
              "      <td>34.90</td>\n",
              "      <td>2.5</td>\n",
              "      <td>0.00</td>\n",
              "    </tr>\n",
              "    <tr>\n",
              "      <th>3</th>\n",
              "      <td>1</td>\n",
              "      <td>2023-01-01 00:03:48</td>\n",
              "      <td>2023-01-01 00:13:25</td>\n",
              "      <td>0.0</td>\n",
              "      <td>1.90</td>\n",
              "      <td>1.0</td>\n",
              "      <td>N</td>\n",
              "      <td>138</td>\n",
              "      <td>7</td>\n",
              "      <td>1</td>\n",
              "      <td>12.1</td>\n",
              "      <td>7.25</td>\n",
              "      <td>0.5</td>\n",
              "      <td>0.00</td>\n",
              "      <td>0.0</td>\n",
              "      <td>1.0</td>\n",
              "      <td>20.85</td>\n",
              "      <td>0.0</td>\n",
              "      <td>1.25</td>\n",
              "    </tr>\n",
              "    <tr>\n",
              "      <th>4</th>\n",
              "      <td>2</td>\n",
              "      <td>2023-01-01 00:10:29</td>\n",
              "      <td>2023-01-01 00:21:19</td>\n",
              "      <td>1.0</td>\n",
              "      <td>1.43</td>\n",
              "      <td>1.0</td>\n",
              "      <td>N</td>\n",
              "      <td>107</td>\n",
              "      <td>79</td>\n",
              "      <td>1</td>\n",
              "      <td>11.4</td>\n",
              "      <td>1.00</td>\n",
              "      <td>0.5</td>\n",
              "      <td>3.28</td>\n",
              "      <td>0.0</td>\n",
              "      <td>1.0</td>\n",
              "      <td>19.68</td>\n",
              "      <td>2.5</td>\n",
              "      <td>0.00</td>\n",
              "    </tr>\n",
              "  </tbody>\n",
              "</table>\n",
              "</div>"
            ],
            "text/plain": [
              "   VendorID tpep_pickup_datetime tpep_dropoff_datetime  passenger_count  \\\n",
              "0         2  2023-01-01 00:32:10   2023-01-01 00:40:36              1.0   \n",
              "1         2  2023-01-01 00:55:08   2023-01-01 01:01:27              1.0   \n",
              "2         2  2023-01-01 00:25:04   2023-01-01 00:37:49              1.0   \n",
              "3         1  2023-01-01 00:03:48   2023-01-01 00:13:25              0.0   \n",
              "4         2  2023-01-01 00:10:29   2023-01-01 00:21:19              1.0   \n",
              "\n",
              "   trip_distance  RatecodeID store_and_fwd_flag  PULocationID  DOLocationID  \\\n",
              "0           0.97         1.0                  N           161           141   \n",
              "1           1.10         1.0                  N            43           237   \n",
              "2           2.51         1.0                  N            48           238   \n",
              "3           1.90         1.0                  N           138             7   \n",
              "4           1.43         1.0                  N           107            79   \n",
              "\n",
              "   payment_type  fare_amount  extra  mta_tax  tip_amount  tolls_amount  \\\n",
              "0             2          9.3   1.00      0.5        0.00           0.0   \n",
              "1             1          7.9   1.00      0.5        4.00           0.0   \n",
              "2             1         14.9   1.00      0.5       15.00           0.0   \n",
              "3             1         12.1   7.25      0.5        0.00           0.0   \n",
              "4             1         11.4   1.00      0.5        3.28           0.0   \n",
              "\n",
              "   improvement_surcharge  total_amount  congestion_surcharge  airport_fee  \n",
              "0                    1.0         14.30                   2.5         0.00  \n",
              "1                    1.0         16.90                   2.5         0.00  \n",
              "2                    1.0         34.90                   2.5         0.00  \n",
              "3                    1.0         20.85                   0.0         1.25  \n",
              "4                    1.0         19.68                   2.5         0.00  "
            ]
          },
          "execution_count": 5,
          "metadata": {},
          "output_type": "execute_result"
        }
      ],
      "source": [
        "df_jan.head()\n"
      ]
    },
    {
      "cell_type": "code",
      "execution_count": 6,
      "metadata": {
        "colab": {
          "base_uri": "https://localhost:8080/",
          "height": 226
        },
        "id": "ilFAtRUTcOmm",
        "outputId": "c14d99a5-8e3f-4c3a-bba5-cf768894a9cd"
      },
      "outputs": [
        {
          "data": {
            "text/html": [
              "<div>\n",
              "<style scoped>\n",
              "    .dataframe tbody tr th:only-of-type {\n",
              "        vertical-align: middle;\n",
              "    }\n",
              "\n",
              "    .dataframe tbody tr th {\n",
              "        vertical-align: top;\n",
              "    }\n",
              "\n",
              "    .dataframe thead th {\n",
              "        text-align: right;\n",
              "    }\n",
              "</style>\n",
              "<table border=\"1\" class=\"dataframe\">\n",
              "  <thead>\n",
              "    <tr style=\"text-align: right;\">\n",
              "      <th></th>\n",
              "      <th>VendorID</th>\n",
              "      <th>tpep_pickup_datetime</th>\n",
              "      <th>tpep_dropoff_datetime</th>\n",
              "      <th>passenger_count</th>\n",
              "      <th>trip_distance</th>\n",
              "      <th>RatecodeID</th>\n",
              "      <th>store_and_fwd_flag</th>\n",
              "      <th>PULocationID</th>\n",
              "      <th>DOLocationID</th>\n",
              "      <th>payment_type</th>\n",
              "      <th>fare_amount</th>\n",
              "      <th>extra</th>\n",
              "      <th>mta_tax</th>\n",
              "      <th>tip_amount</th>\n",
              "      <th>tolls_amount</th>\n",
              "      <th>improvement_surcharge</th>\n",
              "      <th>total_amount</th>\n",
              "      <th>congestion_surcharge</th>\n",
              "      <th>Airport_fee</th>\n",
              "    </tr>\n",
              "  </thead>\n",
              "  <tbody>\n",
              "    <tr>\n",
              "      <th>0</th>\n",
              "      <td>1</td>\n",
              "      <td>2023-02-01 00:32:53</td>\n",
              "      <td>2023-02-01 00:34:34</td>\n",
              "      <td>2.0</td>\n",
              "      <td>0.30</td>\n",
              "      <td>1.0</td>\n",
              "      <td>N</td>\n",
              "      <td>142</td>\n",
              "      <td>163</td>\n",
              "      <td>2</td>\n",
              "      <td>4.4</td>\n",
              "      <td>3.50</td>\n",
              "      <td>0.5</td>\n",
              "      <td>0.0</td>\n",
              "      <td>0.0</td>\n",
              "      <td>1.0</td>\n",
              "      <td>9.40</td>\n",
              "      <td>2.5</td>\n",
              "      <td>0.00</td>\n",
              "    </tr>\n",
              "    <tr>\n",
              "      <th>1</th>\n",
              "      <td>2</td>\n",
              "      <td>2023-02-01 00:35:16</td>\n",
              "      <td>2023-02-01 00:35:30</td>\n",
              "      <td>1.0</td>\n",
              "      <td>0.00</td>\n",
              "      <td>1.0</td>\n",
              "      <td>N</td>\n",
              "      <td>71</td>\n",
              "      <td>71</td>\n",
              "      <td>4</td>\n",
              "      <td>-3.0</td>\n",
              "      <td>-1.00</td>\n",
              "      <td>-0.5</td>\n",
              "      <td>0.0</td>\n",
              "      <td>0.0</td>\n",
              "      <td>-1.0</td>\n",
              "      <td>-5.50</td>\n",
              "      <td>0.0</td>\n",
              "      <td>0.00</td>\n",
              "    </tr>\n",
              "    <tr>\n",
              "      <th>2</th>\n",
              "      <td>2</td>\n",
              "      <td>2023-02-01 00:35:16</td>\n",
              "      <td>2023-02-01 00:35:30</td>\n",
              "      <td>1.0</td>\n",
              "      <td>0.00</td>\n",
              "      <td>1.0</td>\n",
              "      <td>N</td>\n",
              "      <td>71</td>\n",
              "      <td>71</td>\n",
              "      <td>4</td>\n",
              "      <td>3.0</td>\n",
              "      <td>1.00</td>\n",
              "      <td>0.5</td>\n",
              "      <td>0.0</td>\n",
              "      <td>0.0</td>\n",
              "      <td>1.0</td>\n",
              "      <td>5.50</td>\n",
              "      <td>0.0</td>\n",
              "      <td>0.00</td>\n",
              "    </tr>\n",
              "    <tr>\n",
              "      <th>3</th>\n",
              "      <td>1</td>\n",
              "      <td>2023-02-01 00:29:33</td>\n",
              "      <td>2023-02-01 01:01:38</td>\n",
              "      <td>0.0</td>\n",
              "      <td>18.80</td>\n",
              "      <td>1.0</td>\n",
              "      <td>N</td>\n",
              "      <td>132</td>\n",
              "      <td>26</td>\n",
              "      <td>1</td>\n",
              "      <td>70.9</td>\n",
              "      <td>2.25</td>\n",
              "      <td>0.5</td>\n",
              "      <td>0.0</td>\n",
              "      <td>0.0</td>\n",
              "      <td>1.0</td>\n",
              "      <td>74.65</td>\n",
              "      <td>0.0</td>\n",
              "      <td>1.25</td>\n",
              "    </tr>\n",
              "    <tr>\n",
              "      <th>4</th>\n",
              "      <td>2</td>\n",
              "      <td>2023-02-01 00:12:28</td>\n",
              "      <td>2023-02-01 00:25:46</td>\n",
              "      <td>1.0</td>\n",
              "      <td>3.22</td>\n",
              "      <td>1.0</td>\n",
              "      <td>N</td>\n",
              "      <td>161</td>\n",
              "      <td>145</td>\n",
              "      <td>1</td>\n",
              "      <td>17.0</td>\n",
              "      <td>1.00</td>\n",
              "      <td>0.5</td>\n",
              "      <td>3.3</td>\n",
              "      <td>0.0</td>\n",
              "      <td>1.0</td>\n",
              "      <td>25.30</td>\n",
              "      <td>2.5</td>\n",
              "      <td>0.00</td>\n",
              "    </tr>\n",
              "  </tbody>\n",
              "</table>\n",
              "</div>"
            ],
            "text/plain": [
              "   VendorID tpep_pickup_datetime tpep_dropoff_datetime  passenger_count  \\\n",
              "0         1  2023-02-01 00:32:53   2023-02-01 00:34:34              2.0   \n",
              "1         2  2023-02-01 00:35:16   2023-02-01 00:35:30              1.0   \n",
              "2         2  2023-02-01 00:35:16   2023-02-01 00:35:30              1.0   \n",
              "3         1  2023-02-01 00:29:33   2023-02-01 01:01:38              0.0   \n",
              "4         2  2023-02-01 00:12:28   2023-02-01 00:25:46              1.0   \n",
              "\n",
              "   trip_distance  RatecodeID store_and_fwd_flag  PULocationID  DOLocationID  \\\n",
              "0           0.30         1.0                  N           142           163   \n",
              "1           0.00         1.0                  N            71            71   \n",
              "2           0.00         1.0                  N            71            71   \n",
              "3          18.80         1.0                  N           132            26   \n",
              "4           3.22         1.0                  N           161           145   \n",
              "\n",
              "   payment_type  fare_amount  extra  mta_tax  tip_amount  tolls_amount  \\\n",
              "0             2          4.4   3.50      0.5         0.0           0.0   \n",
              "1             4         -3.0  -1.00     -0.5         0.0           0.0   \n",
              "2             4          3.0   1.00      0.5         0.0           0.0   \n",
              "3             1         70.9   2.25      0.5         0.0           0.0   \n",
              "4             1         17.0   1.00      0.5         3.3           0.0   \n",
              "\n",
              "   improvement_surcharge  total_amount  congestion_surcharge  Airport_fee  \n",
              "0                    1.0          9.40                   2.5         0.00  \n",
              "1                   -1.0         -5.50                   0.0         0.00  \n",
              "2                    1.0          5.50                   0.0         0.00  \n",
              "3                    1.0         74.65                   0.0         1.25  \n",
              "4                    1.0         25.30                   2.5         0.00  "
            ]
          },
          "execution_count": 6,
          "metadata": {},
          "output_type": "execute_result"
        }
      ],
      "source": [
        "df_feb.head()"
      ]
    },
    {
      "cell_type": "code",
      "execution_count": 7,
      "metadata": {
        "colab": {
          "base_uri": "https://localhost:8080/"
        },
        "id": "YbMWnnzZcR_5",
        "outputId": "0ce9b1a8-68d1-4ffc-a5dd-0eae00ceaee5"
      },
      "outputs": [
        {
          "name": "stdout",
          "output_type": "stream",
          "text": [
            "<class 'pandas.core.frame.DataFrame'>\n",
            "RangeIndex: 3066766 entries, 0 to 3066765\n",
            "Data columns (total 19 columns):\n",
            " #   Column                 Dtype         \n",
            "---  ------                 -----         \n",
            " 0   VendorID               int64         \n",
            " 1   tpep_pickup_datetime   datetime64[us]\n",
            " 2   tpep_dropoff_datetime  datetime64[us]\n",
            " 3   passenger_count        float64       \n",
            " 4   trip_distance          float64       \n",
            " 5   RatecodeID             float64       \n",
            " 6   store_and_fwd_flag     object        \n",
            " 7   PULocationID           int64         \n",
            " 8   DOLocationID           int64         \n",
            " 9   payment_type           int64         \n",
            " 10  fare_amount            float64       \n",
            " 11  extra                  float64       \n",
            " 12  mta_tax                float64       \n",
            " 13  tip_amount             float64       \n",
            " 14  tolls_amount           float64       \n",
            " 15  improvement_surcharge  float64       \n",
            " 16  total_amount           float64       \n",
            " 17  congestion_surcharge   float64       \n",
            " 18  airport_fee            float64       \n",
            "dtypes: datetime64[us](2), float64(12), int64(4), object(1)\n",
            "memory usage: 444.6+ MB\n"
          ]
        }
      ],
      "source": [
        "df_jan.info()"
      ]
    },
    {
      "cell_type": "code",
      "execution_count": 8,
      "metadata": {
        "id": "-la5Irfhcb3K"
      },
      "outputs": [],
      "source": [
        "#Fnd the duration by substracting pickupdate from dropoff date\n",
        "df_jan['duration'] = df_jan['tpep_dropoff_datetime'] - df_jan['tpep_pickup_datetime']\n",
        "df_feb['duration'] = df_feb['tpep_dropoff_datetime'] - df_feb['tpep_pickup_datetime']"
      ]
    },
    {
      "cell_type": "code",
      "execution_count": 9,
      "metadata": {
        "colab": {
          "base_uri": "https://localhost:8080/",
          "height": 241
        },
        "id": "58JYfUlwcy0I",
        "outputId": "59e4d2ba-e4a1-45dd-d119-656a36245867"
      },
      "outputs": [
        {
          "data": {
            "text/plain": [
              "0   0 days 00:08:26\n",
              "1   0 days 00:06:19\n",
              "2   0 days 00:12:45\n",
              "3   0 days 00:09:37\n",
              "4   0 days 00:10:50\n",
              "Name: duration, dtype: timedelta64[us]"
            ]
          },
          "execution_count": 9,
          "metadata": {},
          "output_type": "execute_result"
        }
      ],
      "source": [
        "df_jan['duration'].head()"
      ]
    },
    {
      "cell_type": "code",
      "execution_count": 10,
      "metadata": {
        "id": "P0yj2N95c32_"
      },
      "outputs": [],
      "source": [
        "#Convert duration to minutes\n",
        "df_jan['duration'] = df_jan['duration'].dt.total_seconds() / 60\n",
        "df_feb['duration'] = df_feb['duration'].dt.total_seconds() / 60"
      ]
    },
    {
      "cell_type": "code",
      "execution_count": 11,
      "metadata": {
        "colab": {
          "base_uri": "https://localhost:8080/",
          "height": 241
        },
        "id": "B51BS1loc_Q3",
        "outputId": "473883f3-bdcc-40ec-bd86-3a46cbdd8ede"
      },
      "outputs": [
        {
          "data": {
            "text/plain": [
              "0     1.683333\n",
              "1     0.233333\n",
              "2     0.233333\n",
              "3    32.083333\n",
              "4    13.300000\n",
              "Name: duration, dtype: float64"
            ]
          },
          "execution_count": 11,
          "metadata": {},
          "output_type": "execute_result"
        }
      ],
      "source": [
        "df_feb['duration'].head()"
      ]
    },
    {
      "cell_type": "code",
      "execution_count": 12,
      "metadata": {
        "colab": {
          "base_uri": "https://localhost:8080/",
          "height": 335
        },
        "id": "cCazpmN6dBSg",
        "outputId": "31429ccb-220a-46a1-8b28-a850d9e2798b"
      },
      "outputs": [
        {
          "data": {
            "text/plain": [
              "count    2.913955e+06\n",
              "mean     1.601591e+01\n",
              "std      4.284210e+01\n",
              "min     -4.361667e+01\n",
              "25%      7.250000e+00\n",
              "50%      1.180000e+01\n",
              "75%      1.876667e+01\n",
              "max      7.053617e+03\n",
              "Name: duration, dtype: float64"
            ]
          },
          "execution_count": 12,
          "metadata": {},
          "output_type": "execute_result"
        }
      ],
      "source": [
        "df_feb['duration'].describe()"
      ]
    },
    {
      "cell_type": "code",
      "execution_count": 13,
      "metadata": {
        "colab": {
          "base_uri": "https://localhost:8080/",
          "height": 335
        },
        "id": "xblNXij4eEnu",
        "outputId": "0ea848a1-1e2e-485b-d4cf-be2060947ae4"
      },
      "outputs": [
        {
          "data": {
            "text/plain": [
              "count    3.066766e+06\n",
              "mean     1.566900e+01\n",
              "std      4.259435e+01\n",
              "min     -2.920000e+01\n",
              "25%      7.116667e+00\n",
              "50%      1.151667e+01\n",
              "75%      1.830000e+01\n",
              "max      1.002918e+04\n",
              "Name: duration, dtype: float64"
            ]
          },
          "execution_count": 13,
          "metadata": {},
          "output_type": "execute_result"
        }
      ],
      "source": [
        "df_jan['duration'].describe()\n"
      ]
    },
    {
      "cell_type": "code",
      "execution_count": 14,
      "metadata": {
        "colab": {
          "base_uri": "https://localhost:8080/",
          "height": 335
        },
        "id": "rxE2ukBkebQZ",
        "outputId": "8d1d7446-d38e-4e6c-f657-2273870046d2"
      },
      "outputs": [
        {
          "data": {
            "text/plain": [
              "count    2.913955e+06\n",
              "mean     1.601591e+01\n",
              "std      4.284210e+01\n",
              "min     -4.361667e+01\n",
              "25%      7.250000e+00\n",
              "50%      1.180000e+01\n",
              "75%      1.876667e+01\n",
              "max      7.053617e+03\n",
              "Name: duration, dtype: float64"
            ]
          },
          "execution_count": 14,
          "metadata": {},
          "output_type": "execute_result"
        }
      ],
      "source": [
        "df_feb['duration'].describe()"
      ]
    },
    {
      "cell_type": "markdown",
      "metadata": {
        "id": "TWgD8JXOeVig"
      },
      "source": [
        "count\t2.913955e+06 before removing outliers for feb.                         \n",
        "count\t3.066766e+06 before removing outliers for jan"
      ]
    },
    {
      "cell_type": "code",
      "execution_count": 15,
      "metadata": {
        "id": "-FkvAvVedGgJ"
      },
      "outputs": [],
      "source": [
        "df_feb['duration'] = (df_feb['duration'] > 0) & (df_feb['duration'] < 60)\n",
        "df_jan['duration'] = (df_jan['duration'] > 0) & (df_jan['duration'] < 60)\n"
      ]
    },
    {
      "cell_type": "code",
      "execution_count": 16,
      "metadata": {
        "colab": {
          "base_uri": "https://localhost:8080/",
          "height": 210
        },
        "id": "8k7Rr9VRe3y6",
        "outputId": "2ae45832-28e7-4bfc-b967-1e85e3b9533d"
      },
      "outputs": [
        {
          "data": {
            "text/plain": [
              "count     2913955\n",
              "unique          2\n",
              "top          True\n",
              "freq      2886378\n",
              "Name: duration, dtype: object"
            ]
          },
          "execution_count": 16,
          "metadata": {},
          "output_type": "execute_result"
        }
      ],
      "source": [
        "df_feb['duration'].describe()\n"
      ]
    },
    {
      "cell_type": "code",
      "execution_count": 17,
      "metadata": {
        "colab": {
          "base_uri": "https://localhost:8080/",
          "height": 210
        },
        "id": "KrUhMF8mfHnz",
        "outputId": "dd8a783f-0768-4ff9-905d-23b1b6c61876"
      },
      "outputs": [
        {
          "data": {
            "text/plain": [
              "count     3066766\n",
              "unique          2\n",
              "top          True\n",
              "freq      3041344\n",
              "Name: duration, dtype: object"
            ]
          },
          "execution_count": 17,
          "metadata": {},
          "output_type": "execute_result"
        }
      ],
      "source": [
        "df_jan['duration'].describe()"
      ]
    },
    {
      "cell_type": "code",
      "execution_count": 18,
      "metadata": {
        "colab": {
          "base_uri": "https://localhost:8080/"
        },
        "id": "cIOogKuPfKwk",
        "outputId": "80a6eeed-0e39-49d7-ecfe-ef7cf0c70996"
      },
      "outputs": [
        {
          "name": "stdout",
          "output_type": "stream",
          "text": [
            "1.00 for february\n",
            "1.00 for january\n"
          ]
        }
      ],
      "source": [
        "#Perentage of records left after removing outliers\n",
        "print(f'{2.913955e+06/2913955:.2f} for february')\n",
        "print(f'{3.066766e+06/3066766:.2f} for january')"
      ]
    },
    {
      "cell_type": "code",
      "execution_count": 19,
      "metadata": {
        "id": "w1QjEsf5gUm6"
      },
      "outputs": [],
      "source": [
        "\n",
        "df_jan['PULocationID'] = df_jan['PULocationID'].astype(str)\n",
        "df_jan['DOLocationID'] = df_jan['DOLocationID'].astype(str)\n",
        "df_feb['PULocationID'] = df_feb['PULocationID'].astype(str)\n",
        "df_feb['DOLocationID'] = df_feb['DOLocationID'].astype(str)\n",
        "\n",
        "\n"
      ]
    },
    {
      "cell_type": "code",
      "execution_count": 20,
      "metadata": {
        "id": "hPDSeVR_jfW9"
      },
      "outputs": [],
      "source": [
        "from sklearn.feature_extraction import DictVectorizer"
      ]
    },
    {
      "cell_type": "code",
      "execution_count": 21,
      "metadata": {
        "id": "V1UlYsvwiuQg"
      },
      "outputs": [],
      "source": [
        "#Fit a dictionary vectorizer to columns=['PULocationID', 'DOLocationID'])\n",
        "dv = DictVectorizer()\n",
        "train_dicts = df_jan[['PULocationID', 'DOLocationID']].to_dict(orient='records')\n",
        "X_train = dv.fit_transform(train_dicts)\n",
        "val_dicts = df_feb[['PULocationID', 'DOLocationID']].to_dict(orient='records')\n",
        "X_val = dv.transform(val_dicts)\n"
      ]
    },
    {
      "cell_type": "code",
      "execution_count": 22,
      "metadata": {
        "id": "Q2kvOhwKhyvp"
      },
      "outputs": [],
      "source": [
        "\n",
        "df_jan = pd.get_dummies(df_jan, columns=['PULocationID', 'DOLocationID'])\n",
        "df_feb = pd.get_dummies(df_feb, columns=['PULocationID', 'DOLocationID'])\n"
      ]
    },
    {
      "cell_type": "code",
      "execution_count": 24,
      "metadata": {
        "id": "gmcnCgHfiBDL"
      },
      "outputs": [],
      "source": [
        "\n",
        "\n",
        "from sklearn.linear_model import LinearRegression\n",
        "from sklearn.metrics import mean_squared_error\n",
        "target = 'duration'\n",
        "y_train = df_jan[target].values\n",
        "lr = LinearRegression()\n",
        "lr.fit(X_train, y_train)\n",
        "y_pred = lr.predict(X_train)\n",
        "mse = mean_squared_error(y_train, y_pred)\n",
        "\n",
        "\n"
      ]
    },
    {
      "cell_type": "code",
      "execution_count": 30,
      "metadata": {},
      "outputs": [
        {
          "data": {
            "text/plain": [
              "<3066766x518 sparse matrix of type '<class 'numpy.float64'>'\n",
              "\twith 6133532 stored elements in Compressed Sparse Row format>"
            ]
          },
          "execution_count": 30,
          "metadata": {},
          "output_type": "execute_result"
        }
      ],
      "source": [
        "X_train"
      ]
    },
    {
      "cell_type": "code",
      "execution_count": 31,
      "metadata": {
        "id": "6LWEnuUPiK3B"
      },
      "outputs": [
        {
          "name": "stdout",
          "output_type": "stream",
          "text": [
            "MSE for training data: 0.007682093976197865\n"
          ]
        }
      ],
      "source": [
        "print(f\"MSE for training data: {mse}\")"
      ]
    },
    {
      "cell_type": "code",
      "execution_count": 32,
      "metadata": {
        "id": "eQelTWzxidd7"
      },
      "outputs": [],
      "source": [
        "#Validation\n",
        "target = 'duration'\n",
        "y_val = df_feb[target].values\n",
        "lr = LinearRegression()\n",
        "lr.fit(X_val, y_val)\n",
        "y_pred = lr.predict(X_val)\n",
        "mse = mean_squared_error(y_val, y_pred)\n"
      ]
    },
    {
      "cell_type": "code",
      "execution_count": 34,
      "metadata": {},
      "outputs": [
        {
          "name": "stdout",
          "output_type": "stream",
          "text": [
            "MSE for validation 0.008614832471453969\n"
          ]
        }
      ],
      "source": [
        "print(f\"MSE for validation {mse}\")"
      ]
    },
    {
      "cell_type": "code",
      "execution_count": null,
      "metadata": {},
      "outputs": [],
      "source": []
    }
  ],
  "metadata": {
    "colab": {
      "provenance": []
    },
    "kernelspec": {
      "display_name": "Python 3.12.7 ('base')",
      "language": "python",
      "name": "python3"
    },
    "language_info": {
      "codemirror_mode": {
        "name": "ipython",
        "version": 3
      },
      "file_extension": ".py",
      "mimetype": "text/x-python",
      "name": "python",
      "nbconvert_exporter": "python",
      "pygments_lexer": "ipython3",
      "version": "3.12.7"
    },
    "vscode": {
      "interpreter": {
        "hash": "57bc2b6ce032b5f0e93daa91901b7ea38a856826ef43aa9e95b6d3999f5310df"
      }
    }
  },
  "nbformat": 4,
  "nbformat_minor": 0
}
